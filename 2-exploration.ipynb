{
 "cells": [
  {
   "cell_type": "code",
   "execution_count": null,
   "metadata": {},
   "outputs": [],
   "source": [
    "# Librairies\n",
    "import numpy as np # Matrix calculations\n",
    "import pandas as pd # Data structures\n",
    "import matplotlib.pyplot as plt # Graphics\n",
    "import re # regular expressions\n",
    "\n",
    "# Plotly Graphic Librairy\n",
    "import plotly.figure_factory as ff\n",
    "import plotly.express as px\n",
    "import plotly.graph_objects as go"
   ]
  },
  {
   "cell_type": "code",
   "execution_count": null,
   "metadata": {},
   "outputs": [],
   "source": [
    "\"\"\"\n",
    "value: The conversion rate is calculated using the average for the year in question, which has\n",
    "been supplied by Oanda.\n",
    "\n",
    "\"\"\""
   ]
  },
  {
   "cell_type": "code",
   "execution_count": null,
   "metadata": {},
   "outputs": [],
   "source": [
    "# Path to dataset\n",
    "path = \"./arms_trades_exports.csv\"\n",
    "header = 'Reporter_Code,Reporter_Name,Partner_Code,Partner_Name,ImportOrExport,Year,Period_Start,Period_End,Weapons_Type,Units,Value,Currency,Licenses_Issued,Weight,Licenses_Refused,AuthOrDel,GovtOrInd,Data_Source,Reliability,Accuracy,SmallArmsOnly,Comment,GlobalComment'\n",
    "\n",
    "# We import the data\n",
    "raw_df = pd.read_csv(path, sep=',', usecols = ['Reporter_Code','Partner_Code','ImportOrExport','Year','Weapons_Type','Value','Reliability','Accuracy'])\n",
    "\n",
    "# Print nbr of rows\n",
    "print(\"Nbr of rows : \" + str(len(raw_df.index)))"
   ]
  },
  {
   "cell_type": "code",
   "execution_count": null,
   "metadata": {},
   "outputs": [],
   "source": [
    "# Transform Columns\n",
    "raw_df['ImportOrExport'] = raw_df['ImportOrExport'].map({'Export':0, 'Import':1})\n",
    "raw_df['Accuracy'] = raw_df['Accuracy'].map({'Low':0, 'Medium':1, 'High':2})\n",
    "\n",
    "raw_df['Reliability'] = raw_df['Reliability'].str.split(\"/\").str[0]\n",
    "raw_df['Reliability'] = raw_df['Reliability'].map({'Pri':0, 'Sec':1})\n",
    "\n",
    "raw_df['Year'] = raw_df['Year'].str.split(\"-\")"
   ]
  },
  {
   "cell_type": "code",
   "execution_count": null,
   "metadata": {},
   "outputs": [],
   "source": [
    "def is_float(x):\n",
    "    try:\n",
    "        float(x)\n",
    "    except ValueError:\n",
    "        return False\n",
    "    return True"
   ]
  },
  {
   "cell_type": "code",
   "execution_count": null,
   "metadata": {},
   "outputs": [],
   "source": [
    "# Only relevant columns\n",
    "clean_df = raw_df[['Reporter_Code', 'Partner_Code', 'ImportOrExport', 'Value', 'Year', 'Weapons_Type']]\n",
    "\n",
    "# Remove rows with NaN\n",
    "clean_df = clean_df.dropna(subset=['Reporter_Code', 'Partner_Code', 'Value'])\n",
    "\n",
    "# Remove rows with NaN at important columns\n",
    "clean_df = clean_df[clean_df['Reporter_Code'].apply(lambda x: is_float(x))]\n",
    "clean_df = clean_df[clean_df['Partner_Code'].apply(lambda x: is_float(x))]\n",
    "clean_df = clean_df[clean_df['Value'].apply(lambda x: is_float(x))]\n",
    "\n",
    "# Print nbr of rows\n",
    "print(\"Nbr of rows : \" + str(len(clean_df.index)))"
   ]
  },
  {
   "cell_type": "code",
   "execution_count": null,
   "metadata": {},
   "outputs": [],
   "source": [
    "# Cast to type\n",
    "clean_df['Reporter_Code'] = clean_df['Reporter_Code'].astype(int)\n",
    "clean_df['Partner_Code'] = clean_df['Partner_Code'].astype(int)\n",
    "clean_df['ImportOrExport'] = clean_df['ImportOrExport'].astype(int)\n",
    "clean_df['Value'] = clean_df['Value'].astype(float)"
   ]
  },
  {
   "cell_type": "code",
   "execution_count": null,
   "metadata": {},
   "outputs": [],
   "source": [
    "# Preview df\n",
    "clean_df.head(10)\n"
   ]
  },
  {
   "cell_type": "code",
   "execution_count": null,
   "metadata": {},
   "outputs": [],
   "source": []
  }
 ],
 "metadata": {
  "kernelspec": {
   "display_name": "Python 3",
   "language": "python",
   "name": "python3"
  },
  "language_info": {
   "codemirror_mode": {
    "name": "ipython",
    "version": 3
   },
   "file_extension": ".py",
   "mimetype": "text/x-python",
   "name": "python",
   "nbconvert_exporter": "python",
   "pygments_lexer": "ipython3",
   "version": "3.6.8"
  }
 },
 "nbformat": 4,
 "nbformat_minor": 2
}
