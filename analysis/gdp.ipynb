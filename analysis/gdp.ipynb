{
 "cells": [
  {
   "cell_type": "code",
   "execution_count": null,
   "metadata": {},
   "outputs": [],
   "source": [
    "# Librairies\n",
    "import numpy as np # Matrix calculations\n",
    "import pandas as pd # Data structures\n",
    "import re # regular expressions\n",
    "import csv\n",
    "import json"
   ]
  },
  {
   "cell_type": "code",
   "execution_count": null,
   "metadata": {},
   "outputs": [],
   "source": [
    "# Path to dataset\n",
    "path = \"data/gdp/API_NY.GDP.MKTP.CD_DS2_en_csv_v2_511444.csv\"\n",
    "\n",
    "# We import the data\n",
    "raw_df = pd.read_csv(path, sep=',', index_col=0)\n",
    "\n",
    "# remove the country code\n",
    "raw_df = raw_df.drop(columns=['Country Code'])\n",
    "\n",
    "# Print nbr of rows\n",
    "print(\"Nbr of rows : \" + str(len(raw_df.index)))\n",
    "\n",
    "# Transpose\n",
    "raw_df = raw_df.transpose()\n",
    "\n",
    "# fill nan with column average\n",
    "raw_df = raw_df.replace(0.0, np.NaN)\n",
    "raw_df = raw_df.replace(0.0, raw_df.mean(axis=0))\n",
    "raw_df = raw_df.fillna(raw_df.mean(axis=0), axis=0)\n",
    "\n",
    "# preview\n",
    "raw_df.head(10)"
   ]
  },
  {
   "cell_type": "code",
   "execution_count": null,
   "metadata": {},
   "outputs": [],
   "source": [
    "# Get years as array\n",
    "years = np.array(raw_df[raw_df.columns[0]].keys())"
   ]
  },
  {
   "cell_type": "markdown",
   "metadata": {},
   "source": [
    "## Dataviz Output"
   ]
  },
  {
   "cell_type": "code",
   "execution_count": null,
   "metadata": {},
   "outputs": [],
   "source": [
    "# Load the african country dictionary\n",
    "dict_path = \"data/output/african_countries.json\"\n",
    "\n",
    "with open(dict_path) as json_file:\n",
    "    ccDict = json.load(json_file)"
   ]
  },
  {
   "cell_type": "code",
   "execution_count": null,
   "metadata": {},
   "outputs": [],
   "source": [
    "# Init a dict that will contain the total value of arms import per year per country\n",
    "population_dict = {}\n",
    "\n",
    "minYear = int(min(years))\n",
    "maxYear = int(max(years))\n",
    "\n",
    "for i, key in enumerate(ccDict):\n",
    "    population_dict[key] = {}\n",
    "    \n",
    "    for year in range(minYear, maxYear+1):\n",
    "        population_dict[key][year] = 0"
   ]
  },
  {
   "cell_type": "code",
   "execution_count": null,
   "metadata": {},
   "outputs": [],
   "source": [
    "# Populate the dict with the data\n",
    "for i, key in enumerate(ccDict):\n",
    "    \n",
    "    # get name\n",
    "    name = ccDict[key]['name']\n",
    "    \n",
    "    if(name in raw_df.columns):\n",
    "        \n",
    "        # go through years\n",
    "        for year in range(minYear, maxYear+1):\n",
    "            population_dict[key][year] = raw_df[name][str(year)]\n",
    "            \n",
    "    else:\n",
    "        print(name)"
   ]
  },
  {
   "cell_type": "code",
   "execution_count": null,
   "metadata": {},
   "outputs": [],
   "source": [
    "# Save the dict to a json file\n",
    "with open('data/output/gdp.json', 'w') as fp:\n",
    "    json.dump(population_dict, fp)"
   ]
  },
  {
   "cell_type": "code",
   "execution_count": null,
   "metadata": {},
   "outputs": [],
   "source": []
  }
 ],
 "metadata": {
  "kernelspec": {
   "display_name": "Python 3",
   "language": "python",
   "name": "python3"
  },
  "language_info": {
   "codemirror_mode": {
    "name": "ipython",
    "version": 3
   },
   "file_extension": ".py",
   "mimetype": "text/x-python",
   "name": "python",
   "nbconvert_exporter": "python",
   "pygments_lexer": "ipython3",
   "version": "3.6.8"
  }
 },
 "nbformat": 4,
 "nbformat_minor": 2
}
