{
 "cells": [
  {
   "cell_type": "code",
   "execution_count": 1,
   "metadata": {},
   "outputs": [],
   "source": [
    "# Libs\n",
    "import json\n",
    "import csv\n",
    "import pandas as pd\n",
    "import numpy as np\n",
    "import time\n",
    "import sys\n",
    "import random\n",
    "import matplotlib.pyplot as plt\n",
    "from joblib import dump, load\n",
    "from glob import glob\n",
    "\n",
    "from tqdm import tqdm_notebook as tqdm\n",
    "\n",
    "from sklearn.model_selection import train_test_split"
   ]
  },
  {
   "cell_type": "code",
   "execution_count": 2,
   "metadata": {},
   "outputs": [],
   "source": [
    "# Load the african country dictionary\n",
    "dict_path = \"data/output/african_countries.json\"\n",
    "\n",
    "with open(dict_path) as json_file:\n",
    "    ccDict = json.load(json_file)"
   ]
  },
  {
   "cell_type": "code",
   "execution_count": 3,
   "metadata": {},
   "outputs": [],
   "source": [
    "# Load all features\n",
    "with open('data/output/mil_exp.json') as json_file:\n",
    "    mil_exp = json.load(json_file)\n",
    "    \n",
    "with open('data/output/population.json') as json_file:\n",
    "    population = json.load(json_file)\n",
    "    \n",
    "with open('data/output/arms_imports.json') as json_file:\n",
    "    arms_imports = json.load(json_file)\n",
    "    \n",
    "with open('data/output/conflicts.json') as json_file:\n",
    "    conflicts = json.load(json_file)\n",
    "    \n",
    "with open('data/output/mil_pers.json') as json_file:\n",
    "    mil_pers = json.load(json_file)\n",
    "    "
   ]
  },
  {
   "cell_type": "code",
   "execution_count": 65,
   "metadata": {},
   "outputs": [
    {
     "name": "stdout",
     "output_type": "stream",
     "text": [
      "Nbr of rows : 2754\n"
     ]
    },
    {
     "data": {
      "text/html": [
       "<div>\n",
       "<style scoped>\n",
       "    .dataframe tbody tr th:only-of-type {\n",
       "        vertical-align: middle;\n",
       "    }\n",
       "\n",
       "    .dataframe tbody tr th {\n",
       "        vertical-align: top;\n",
       "    }\n",
       "\n",
       "    .dataframe thead th {\n",
       "        text-align: right;\n",
       "    }\n",
       "</style>\n",
       "<table border=\"1\" class=\"dataframe\">\n",
       "  <thead>\n",
       "    <tr style=\"text-align: right;\">\n",
       "      <th></th>\n",
       "      <th>Arms_Imports</th>\n",
       "      <th>COW_key</th>\n",
       "      <th>Conflict</th>\n",
       "      <th>Mil_Exp</th>\n",
       "      <th>Mil_Pers</th>\n",
       "      <th>Population</th>\n",
       "      <th>Year</th>\n",
       "    </tr>\n",
       "  </thead>\n",
       "  <tbody>\n",
       "    <tr>\n",
       "      <th>0</th>\n",
       "      <td>0</td>\n",
       "      <td>615</td>\n",
       "      <td>0</td>\n",
       "      <td>3.238663</td>\n",
       "      <td>0.412088</td>\n",
       "      <td>11619828</td>\n",
       "      <td>1962</td>\n",
       "    </tr>\n",
       "    <tr>\n",
       "      <th>1</th>\n",
       "      <td>0</td>\n",
       "      <td>615</td>\n",
       "      <td>1</td>\n",
       "      <td>2.937209</td>\n",
       "      <td>0.624721</td>\n",
       "      <td>11912803</td>\n",
       "      <td>1963</td>\n",
       "    </tr>\n",
       "    <tr>\n",
       "      <th>2</th>\n",
       "      <td>0</td>\n",
       "      <td>615</td>\n",
       "      <td>0</td>\n",
       "      <td>3.420652</td>\n",
       "      <td>0.556745</td>\n",
       "      <td>12221675</td>\n",
       "      <td>1964</td>\n",
       "    </tr>\n",
       "    <tr>\n",
       "      <th>3</th>\n",
       "      <td>0</td>\n",
       "      <td>615</td>\n",
       "      <td>0</td>\n",
       "      <td>3.168904</td>\n",
       "      <td>0.503229</td>\n",
       "      <td>12550885</td>\n",
       "      <td>1965</td>\n",
       "    </tr>\n",
       "    <tr>\n",
       "      <th>4</th>\n",
       "      <td>3915602</td>\n",
       "      <td>615</td>\n",
       "      <td>0</td>\n",
       "      <td>3.272904</td>\n",
       "      <td>0.592370</td>\n",
       "      <td>12902627</td>\n",
       "      <td>1966</td>\n",
       "    </tr>\n",
       "    <tr>\n",
       "      <th>5</th>\n",
       "      <td>0</td>\n",
       "      <td>615</td>\n",
       "      <td>0</td>\n",
       "      <td>2.948131</td>\n",
       "      <td>0.573482</td>\n",
       "      <td>13275026</td>\n",
       "      <td>1967</td>\n",
       "    </tr>\n",
       "    <tr>\n",
       "      <th>6</th>\n",
       "      <td>1958746</td>\n",
       "      <td>615</td>\n",
       "      <td>0</td>\n",
       "      <td>2.583317</td>\n",
       "      <td>0.555761</td>\n",
       "      <td>13663583</td>\n",
       "      <td>1968</td>\n",
       "    </tr>\n",
       "    <tr>\n",
       "      <th>7</th>\n",
       "      <td>665860</td>\n",
       "      <td>615</td>\n",
       "      <td>0</td>\n",
       "      <td>2.340749</td>\n",
       "      <td>0.575043</td>\n",
       "      <td>14061722</td>\n",
       "      <td>1969</td>\n",
       "    </tr>\n",
       "    <tr>\n",
       "      <th>8</th>\n",
       "      <td>1170484</td>\n",
       "      <td>615</td>\n",
       "      <td>0</td>\n",
       "      <td>2.044164</td>\n",
       "      <td>0.581987</td>\n",
       "      <td>14464985</td>\n",
       "      <td>1970</td>\n",
       "    </tr>\n",
       "    <tr>\n",
       "      <th>9</th>\n",
       "      <td>1849112</td>\n",
       "      <td>615</td>\n",
       "      <td>0</td>\n",
       "      <td>1.952654</td>\n",
       "      <td>0.564294</td>\n",
       "      <td>14872250</td>\n",
       "      <td>1971</td>\n",
       "    </tr>\n",
       "  </tbody>\n",
       "</table>\n",
       "</div>"
      ],
      "text/plain": [
       "   Arms_Imports  COW_key  Conflict   Mil_Exp  Mil_Pers  Population  Year\n",
       "0             0      615         0  3.238663  0.412088    11619828  1962\n",
       "1             0      615         1  2.937209  0.624721    11912803  1963\n",
       "2             0      615         0  3.420652  0.556745    12221675  1964\n",
       "3             0      615         0  3.168904  0.503229    12550885  1965\n",
       "4       3915602      615         0  3.272904  0.592370    12902627  1966\n",
       "5             0      615         0  2.948131  0.573482    13275026  1967\n",
       "6       1958746      615         0  2.583317  0.555761    13663583  1968\n",
       "7        665860      615         0  2.340749  0.575043    14061722  1969\n",
       "8       1170484      615         0  2.044164  0.581987    14464985  1970\n",
       "9       1849112      615         0  1.952654  0.564294    14872250  1971"
      ]
     },
     "execution_count": 65,
     "metadata": {},
     "output_type": "execute_result"
    }
   ],
   "source": [
    "# Get the time windows we will work with\n",
    "minYear = 1962\n",
    "maxYear = 2012\n",
    "\n",
    "# Go through all datasets\n",
    "temp_df = []\n",
    "for i, key in enumerate(ccDict):\n",
    "    \n",
    "    # Get the country name\n",
    "    country_name = ccDict[key]['name']\n",
    "    \n",
    "    # Go through years\n",
    "    for year in range(minYear, maxYear+1):\n",
    "    \n",
    "        # datum\n",
    "        datum = {\n",
    "            'COW_key': int(key),\n",
    "            'Year': int(year),\n",
    "            'Mil_Exp':float(mil_exp[key][str(year)]),\n",
    "            'Population':int(population[key][str(year)]),\n",
    "            'Mil_Pers':float(mil_pers[key][str(year)]),\n",
    "            'Arms_Imports':int(arms_imports[key][str(year)]),\n",
    "            'Conflict':conflicts[key][str(year)]\n",
    "        }\n",
    "        \n",
    "        # Append to temp df\n",
    "        temp_df.append(datum)\n",
    "\n",
    "# Convert temp df to pandas\n",
    "df = pd.DataFrame(temp_df) \n",
    "    \n",
    "\n",
    "# Print nbr of rows\n",
    "print(\"Nbr of rows : \" + str(len(df.index)))\n",
    "\n",
    "# Preview df\n",
    "df.head(10)"
   ]
  },
  {
   "cell_type": "markdown",
   "metadata": {},
   "source": [
    "## Missing Data"
   ]
  },
  {
   "cell_type": "code",
   "execution_count": 66,
   "metadata": {},
   "outputs": [
    {
     "data": {
      "text/plain": [
       "Arms_Imports    1.388874e+06\n",
       "COW_key         5.115000e+02\n",
       "Conflict        1.706609e-01\n",
       "Mil_Exp         2.266421e+00\n",
       "Mil_Pers        3.018577e-01\n",
       "Population      1.142336e+07\n",
       "Year            1.987000e+03\n",
       "dtype: float64"
      ]
     },
     "execution_count": 66,
     "metadata": {},
     "output_type": "execute_result"
    }
   ],
   "source": [
    "df.mean(axis = 0)"
   ]
  },
  {
   "cell_type": "code",
   "execution_count": 67,
   "metadata": {},
   "outputs": [],
   "source": [
    "mean_milexp = df.mean(axis = 0)['Mil_Exp']\n",
    "mean_milpers = df.mean(axis = 0)['Mil_Pers']\n",
    "\n",
    "\n",
    "for index, row in df.iterrows():\n",
    "    \n",
    "    if(row['Mil_Exp'] == 0):\n",
    "        df.at[index,'Mil_Exp'] = mean_milexp\n",
    "    \n",
    "    if(row['Mil_Pers'] == 0):\n",
    "        df.at[index,'Mil_Pers'] = mean_milpers"
   ]
  },
  {
   "cell_type": "markdown",
   "metadata": {},
   "source": [
    "## Balance Dataset"
   ]
  },
  {
   "cell_type": "code",
   "execution_count": 68,
   "metadata": {},
   "outputs": [],
   "source": [
    "# Shuffle Rows\n",
    "df = df.sample(frac=1).reset_index(drop=True)\n",
    "\n",
    "# count excess\n",
    "imbalance = df['Conflict'].value_counts()\n",
    "\n",
    "excessLabel = 0\n",
    "if(imbalance[0] > imbalance[1]):\n",
    "    excessLabel = 0\n",
    "else:\n",
    "    excessLabel = 1\n",
    "\n",
    "# Nbr of excess\n",
    "diff = abs(imbalance[0] - imbalance[1])"
   ]
  },
  {
   "cell_type": "code",
   "execution_count": 69,
   "metadata": {},
   "outputs": [],
   "source": [
    "balanced_df = df.copy()\n",
    "\n",
    "nbr_dropped = 0\n",
    "for index, row in balanced_df.iterrows():\n",
    "    \n",
    "    if(nbr_dropped >= diff):\n",
    "        break\n",
    "    \n",
    "    if(row['Conflict'] == excessLabel):\n",
    "        balanced_df.drop(index, inplace=True)\n",
    "        nbr_dropped += 1"
   ]
  },
  {
   "cell_type": "code",
   "execution_count": 70,
   "metadata": {},
   "outputs": [
    {
     "data": {
      "text/plain": [
       "1    470\n",
       "0    470\n",
       "Name: Conflict, dtype: int64"
      ]
     },
     "execution_count": 70,
     "metadata": {},
     "output_type": "execute_result"
    }
   ],
   "source": [
    "balanced_df['Conflict'].value_counts()"
   ]
  },
  {
   "cell_type": "markdown",
   "metadata": {},
   "source": [
    "## Split Dataset"
   ]
  },
  {
   "cell_type": "code",
   "execution_count": 71,
   "metadata": {},
   "outputs": [],
   "source": [
    "# Split features/label\n",
    "features = ['Arms_Imports', 'Mil_Exp', 'Mil_Pers', 'Population', 'Year']\n",
    "label = ['Conflict']\n",
    "X = balanced_df[features]\n",
    "y = balanced_df[label]"
   ]
  },
  {
   "cell_type": "code",
   "execution_count": 72,
   "metadata": {},
   "outputs": [
    {
     "name": "stdout",
     "output_type": "stream",
     "text": [
      "Length of training set :  752\n",
      "Length of validation set :  188\n"
     ]
    }
   ],
   "source": [
    "# Split the data\n",
    "train_X, valid_X, train_Y, valid_Y = train_test_split(X, y, test_size=0.2, random_state=12, shuffle=True, stratify=y)\n",
    "\n",
    "# cast to np\n",
    "valid_Y = np.array(valid_Y)\n",
    "valid_X = np.array(valid_X)\n",
    "\n",
    "print(\"Length of training set : \", len(train_X))\n",
    "print(\"Length of validation set : \", len(valid_X))"
   ]
  },
  {
   "cell_type": "markdown",
   "metadata": {},
   "source": [
    "## Random Forest"
   ]
  },
  {
   "cell_type": "code",
   "execution_count": 85,
   "metadata": {},
   "outputs": [
    {
     "name": "stderr",
     "output_type": "stream",
     "text": [
      "/home/jean-romain/.local/lib/python3.6/site-packages/ipykernel_launcher.py:4: DataConversionWarning: A column-vector y was passed when a 1d array was expected. Please change the shape of y to (n_samples,), for example using ravel().\n",
      "  after removing the cwd from sys.path.\n"
     ]
    },
    {
     "data": {
      "text/plain": [
       "RandomForestClassifier(bootstrap=True, class_weight=None, criterion='gini',\n",
       "                       max_depth=None, max_features='auto', max_leaf_nodes=None,\n",
       "                       min_impurity_decrease=0.0, min_impurity_split=None,\n",
       "                       min_samples_leaf=1, min_samples_split=2,\n",
       "                       min_weight_fraction_leaf=0.0, n_estimators=5000,\n",
       "                       n_jobs=None, oob_score=False, random_state=0, verbose=0,\n",
       "                       warm_start=False)"
      ]
     },
     "execution_count": 85,
     "metadata": {},
     "output_type": "execute_result"
    }
   ],
   "source": [
    "from sklearn.ensemble import RandomForestClassifier\n",
    "\n",
    "rdf_classifier = RandomForestClassifier(n_estimators=5000, random_state=0)\n",
    "rdf_classifier.fit(train_X,train_Y)"
   ]
  },
  {
   "cell_type": "code",
   "execution_count": 86,
   "metadata": {},
   "outputs": [],
   "source": [
    "rdf_predictions = rdf_classifier.predict(valid_X)"
   ]
  },
  {
   "cell_type": "code",
   "execution_count": 87,
   "metadata": {},
   "outputs": [
    {
     "name": "stdout",
     "output_type": "stream",
     "text": [
      "Validation Accuracy = 0.21010638297872342\n"
     ]
    }
   ],
   "source": [
    "success = 0\n",
    "for i, pred in enumerate(rdf_predictions):\n",
    "    if(pred == valid_Y[i]):\n",
    "        success += 1\n",
    "        \n",
    "print(\"Validation Accuracy = \" + str(success/len(train_Y)))"
   ]
  },
  {
   "cell_type": "markdown",
   "metadata": {},
   "source": [
    "## Logistic Regression"
   ]
  },
  {
   "cell_type": "code",
   "execution_count": 47,
   "metadata": {},
   "outputs": [],
   "source": [
    "from sklearn.preprocessing import MinMaxScaler\n",
    "\n",
    "# Normalize data\n",
    "scaler = MinMaxScaler()\n",
    "train_X_t_n = scaler.fit_transform(train_X)\n",
    "valid_X_t_n = scaler.transform(valid_X)"
   ]
  },
  {
   "cell_type": "code",
   "execution_count": 48,
   "metadata": {},
   "outputs": [
    {
     "name": "stderr",
     "output_type": "stream",
     "text": [
      "/home/jean-romain/.local/lib/python3.6/site-packages/sklearn/linear_model/logistic.py:432: FutureWarning: Default solver will be changed to 'lbfgs' in 0.22. Specify a solver to silence this warning.\n",
      "  FutureWarning)\n",
      "/home/jean-romain/.local/lib/python3.6/site-packages/sklearn/utils/validation.py:724: DataConversionWarning: A column-vector y was passed when a 1d array was expected. Please change the shape of y to (n_samples, ), for example using ravel().\n",
      "  y = column_or_1d(y, warn=True)\n"
     ]
    },
    {
     "data": {
      "text/plain": [
       "LogisticRegression(C=1.0, class_weight=None, dual=False, fit_intercept=True,\n",
       "                   intercept_scaling=1, l1_ratio=None, max_iter=100,\n",
       "                   multi_class='warn', n_jobs=None, penalty='l2',\n",
       "                   random_state=None, solver='warn', tol=0.0001, verbose=0,\n",
       "                   warm_start=False)"
      ]
     },
     "execution_count": 48,
     "metadata": {},
     "output_type": "execute_result"
    }
   ],
   "source": [
    "from sklearn.linear_model import LogisticRegression\n",
    "\n",
    "log_classifier = LogisticRegression()\n",
    "log_classifier.fit(train_X_t_n, train_Y)"
   ]
  },
  {
   "cell_type": "code",
   "execution_count": 49,
   "metadata": {},
   "outputs": [],
   "source": [
    "log_predictions = log_classifier.predict(valid_X_t_n)"
   ]
  },
  {
   "cell_type": "code",
   "execution_count": 50,
   "metadata": {},
   "outputs": [
    {
     "name": "stdout",
     "output_type": "stream",
     "text": [
      "Validation Accuracy = 0.17420212765957446\n"
     ]
    }
   ],
   "source": [
    "success = 0\n",
    "for i, pred in enumerate(log_predictions):\n",
    "    if(pred == valid_Y[i]):\n",
    "        success += 1\n",
    "        \n",
    "print(\"Validation Accuracy = \" + str(success/len(train_Y)))"
   ]
  },
  {
   "cell_type": "markdown",
   "metadata": {},
   "source": [
    "## SVM Algorithms"
   ]
  },
  {
   "cell_type": "code",
   "execution_count": 51,
   "metadata": {},
   "outputs": [
    {
     "name": "stderr",
     "output_type": "stream",
     "text": [
      "/home/jean-romain/.local/lib/python3.6/site-packages/sklearn/utils/validation.py:724: DataConversionWarning: A column-vector y was passed when a 1d array was expected. Please change the shape of y to (n_samples, ), for example using ravel().\n",
      "  y = column_or_1d(y, warn=True)\n"
     ]
    },
    {
     "data": {
      "text/plain": [
       "SVC(C=1.0, cache_size=200, class_weight=None, coef0=0.0,\n",
       "    decision_function_shape='ovr', degree=3, gamma='auto', kernel='rbf',\n",
       "    max_iter=-1, probability=True, random_state=None, shrinking=True, tol=0.001,\n",
       "    verbose=False)"
      ]
     },
     "execution_count": 51,
     "metadata": {},
     "output_type": "execute_result"
    }
   ],
   "source": [
    "from sklearn import svm\n",
    "\n",
    "svm_classifier = svm.SVC(gamma='auto',probability=True)\n",
    "svm_classifier.fit(train_X_t_n, train_Y)"
   ]
  },
  {
   "cell_type": "code",
   "execution_count": 52,
   "metadata": {},
   "outputs": [],
   "source": [
    "svm_predictions = svm_classifier.predict(valid_X_t_n)"
   ]
  },
  {
   "cell_type": "code",
   "execution_count": 53,
   "metadata": {},
   "outputs": [
    {
     "name": "stdout",
     "output_type": "stream",
     "text": [
      "Validation Accuracy = 0.16888297872340424\n"
     ]
    }
   ],
   "source": [
    "success = 0\n",
    "for i, pred in enumerate(svm_predictions):\n",
    "    if(pred == valid_Y[i]):\n",
    "        success += 1\n",
    "        \n",
    "print(\"Validation Accuracy = \" + str(success/len(train_Y)))"
   ]
  },
  {
   "cell_type": "markdown",
   "metadata": {},
   "source": [
    "## Dataviz Output"
   ]
  },
  {
   "cell_type": "code",
   "execution_count": 26,
   "metadata": {},
   "outputs": [
    {
     "name": "stdout",
     "output_type": "stream",
     "text": [
      "['Arms_Imports', 'Mil_Exp', 'Mil_Pers', 'Population', 'Year']\n"
     ]
    }
   ],
   "source": [
    "print(features)"
   ]
  },
  {
   "cell_type": "code",
   "execution_count": 55,
   "metadata": {},
   "outputs": [
    {
     "data": {
      "application/vnd.jupyter.widget-view+json": {
       "model_id": "b018544522ca45a38ec1b8da42d94bb7",
       "version_major": 2,
       "version_minor": 0
      },
      "text/plain": [
       "HBox(children=(IntProgress(value=0, max=54), HTML(value='')))"
      ]
     },
     "metadata": {},
     "output_type": "display_data"
    },
    {
     "name": "stdout",
     "output_type": "stream",
     "text": [
      "\n"
     ]
    }
   ],
   "source": [
    "# Init a dict that will contain the total value of arms import per year per country\n",
    "predict_dict = {}\n",
    "\n",
    "nbrOfKey = len(ccDict.keys())\n",
    "\n",
    "for i, key in tqdm(enumerate(ccDict), total=nbrOfKey):\n",
    "    predict_dict[key] = {}\n",
    "    \n",
    "    for year in range(minYear, maxYear+1):\n",
    "        \n",
    "        # create datum in SAME order\n",
    "        datum = [arms_imports[key][str(year)], float(mil_exp[key][str(year)]), float(mil_pers[key][str(year)]),int(population[key][str(year)]),year]\n",
    "        \n",
    "        # predict with probabibility\n",
    "        predict_dict[key][str(year)] = str(rdf_classifier.predict_proba([datum])[0][1])"
   ]
  },
  {
   "cell_type": "code",
   "execution_count": null,
   "metadata": {},
   "outputs": [],
   "source": [
    "# Save the dict to a json file\n",
    "with open('data/output/predictions.json', 'w') as fp:\n",
    "    json.dump(predict_dict, fp)"
   ]
  },
  {
   "cell_type": "code",
   "execution_count": null,
   "metadata": {},
   "outputs": [],
   "source": []
  }
 ],
 "metadata": {
  "kernelspec": {
   "display_name": "Python 3",
   "language": "python",
   "name": "python3"
  },
  "language_info": {
   "codemirror_mode": {
    "name": "ipython",
    "version": 3
   },
   "file_extension": ".py",
   "mimetype": "text/x-python",
   "name": "python",
   "nbconvert_exporter": "python",
   "pygments_lexer": "ipython3",
   "version": "3.6.8"
  }
 },
 "nbformat": 4,
 "nbformat_minor": 2
}
