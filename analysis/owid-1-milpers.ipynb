{
 "cells": [
  {
   "cell_type": "code",
   "execution_count": null,
   "metadata": {},
   "outputs": [],
   "source": [
    "# Librairies\n",
    "import numpy as np # Matrix calculations\n",
    "import pandas as pd # Data structures\n",
    "import re # regular expressions\n",
    "import csv\n",
    "import json"
   ]
  },
  {
   "cell_type": "code",
   "execution_count": null,
   "metadata": {},
   "outputs": [],
   "source": [
    "# Path to dataset\n",
    "path = \"data/owid/military-personnel-relative-to-total-population.csv\"\n",
    "\n",
    "# We import the data\n",
    "raw_df = pd.read_csv(path, sep=',')\n",
    "\n",
    "# Print nbr of rows\n",
    "print(\"Nbr of rows : \" + str(len(raw_df.index)))\n",
    "\n",
    "# Preview df\n",
    "raw_df.head(10)"
   ]
  },
  {
   "cell_type": "code",
   "execution_count": null,
   "metadata": {},
   "outputs": [],
   "source": [
    "# Only relevant columns\n",
    "clean_df = raw_df[['Entity', 'Year', 'Military personnel as share of the population COW (2017) (share of the population)']]\n",
    "\n",
    "# Remove rows with NaN\n",
    "clean_df = clean_df.dropna()\n",
    "\n",
    "# Print nbr of rows\n",
    "print(\"Nbr of rows : \" + str(len(clean_df.index)))\n",
    "\n",
    "# Preview df\n",
    "clean_df.head(10)"
   ]
  },
  {
   "cell_type": "markdown",
   "metadata": {},
   "source": [
    "## Dataviz Output"
   ]
  },
  {
   "cell_type": "code",
   "execution_count": null,
   "metadata": {},
   "outputs": [],
   "source": [
    "# Load the african country dictionary\n",
    "dict_path = \"data/output/african_countries.json\"\n",
    "\n",
    "with open(dict_path) as json_file:\n",
    "    ccDict = json.load(json_file)"
   ]
  },
  {
   "cell_type": "code",
   "execution_count": null,
   "metadata": {},
   "outputs": [],
   "source": [
    "# Init a dict that will contain the total value of arms import per year per country\n",
    "mil_pers_dict = {}\n",
    "\n",
    "minYear = int(min(clean_df['Year'].unique()))\n",
    "maxYear = int(max(clean_df['Year'].unique()))\n",
    "\n",
    "for i, key in enumerate(ccDict):\n",
    "    mil_pers_dict[key] = {}\n",
    "    \n",
    "    for i in range(minYear, maxYear+1):\n",
    "        mil_pers_dict[key][str(i)] = 0"
   ]
  },
  {
   "cell_type": "code",
   "execution_count": null,
   "metadata": {},
   "outputs": [],
   "source": [
    "# Populate the dict with the data\n",
    "for index, row in clean_df.iterrows():\n",
    "    \n",
    "    entity = str(row[\"Entity\"])\n",
    "    year = str(row[\"Year\"])\n",
    "    mil_pers = str(row[\"Military personnel as share of the population COW (2017) (share of the population)\"])\n",
    "    \n",
    "    found = False\n",
    "\n",
    "    for i, key in enumerate(ccDict):\n",
    "        if(ccDict[key]['name'] == entity):\n",
    "            mil_pers_dict[key][year] = mil_pers\n",
    "            found = True\n",
    "            break\n",
    "\n",
    "    if(not entity):\n",
    "        print(entity)"
   ]
  },
  {
   "cell_type": "code",
   "execution_count": null,
   "metadata": {},
   "outputs": [],
   "source": [
    "# Save the dict to a json file\n",
    "with open('data/output/mil_pers.json', 'w') as fp:\n",
    "    json.dump(mil_pers_dict, fp)"
   ]
  },
  {
   "cell_type": "code",
   "execution_count": null,
   "metadata": {},
   "outputs": [],
   "source": []
  }
 ],
 "metadata": {
  "kernelspec": {
   "display_name": "Python 3",
   "language": "python",
   "name": "python3"
  },
  "language_info": {
   "codemirror_mode": {
    "name": "ipython",
    "version": 3
   },
   "file_extension": ".py",
   "mimetype": "text/x-python",
   "name": "python",
   "nbconvert_exporter": "python",
   "pygments_lexer": "ipython3",
   "version": "3.6.8"
  }
 },
 "nbformat": 4,
 "nbformat_minor": 2
}
