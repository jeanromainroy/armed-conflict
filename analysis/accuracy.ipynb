{
 "cells": [
  {
   "cell_type": "code",
   "execution_count": null,
   "metadata": {},
   "outputs": [],
   "source": [
    "# Libs\n",
    "import json\n",
    "import csv\n",
    "import pandas as pd\n",
    "import numpy as np\n",
    "import time\n",
    "import sys\n",
    "import random\n",
    "import matplotlib.pyplot as plt\n",
    "from glob import glob"
   ]
  },
  {
   "cell_type": "code",
   "execution_count": null,
   "metadata": {},
   "outputs": [],
   "source": [
    "with open('data/output/conflicts.json') as json_file:\n",
    "    conflicts = json.load(json_file)\n",
    "    \n",
    "with open('data/output/predictions.json') as json_file:\n",
    "    predictions = json.load(json_file)"
   ]
  },
  {
   "cell_type": "code",
   "execution_count": null,
   "metadata": {},
   "outputs": [],
   "source": [
    "success = 0\n",
    "ave_prob = 0.0\n",
    "nbrof = 0\n",
    "minYear = 1962\n",
    "maxYear = 2012\n",
    "for i, key in enumerate(predictions):\n",
    "    for year in range(minYear, maxYear+1):\n",
    "        \n",
    "        conflict = conflicts[key][str(year)]\n",
    "        prediction = float(predictions[str(key)][str(year)])\n",
    "        bin_pred = round(prediction)\n",
    "        \n",
    "        if(conflict == 1):\n",
    "            \n",
    "            nbrof += 1\n",
    "            \n",
    "            if(bin_pred == conflict and prediction > 0.8):\n",
    "                success += 1\n",
    "            \n",
    "            \n",
    "#         if(prediction == conflict):\n",
    "#             nbrof += 1\n",
    "#             success += 1\n",
    "#         elif(year < maxYear and predictions[str(key)][str(year+1)] == conflict):\n",
    "#             success += 1\n",
    "\n",
    "print(\"Accuracy \" + str(success/nbrof))"
   ]
  },
  {
   "cell_type": "code",
   "execution_count": null,
   "metadata": {},
   "outputs": [],
   "source": []
  }
 ],
 "metadata": {
  "kernelspec": {
   "display_name": "Python 3",
   "language": "python",
   "name": "python3"
  },
  "language_info": {
   "codemirror_mode": {
    "name": "ipython",
    "version": 3
   },
   "file_extension": ".py",
   "mimetype": "text/x-python",
   "name": "python",
   "nbconvert_exporter": "python",
   "pygments_lexer": "ipython3",
   "version": "3.6.8"
  }
 },
 "nbformat": 4,
 "nbformat_minor": 2
}
