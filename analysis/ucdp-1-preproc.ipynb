{
 "cells": [
  {
   "cell_type": "code",
   "execution_count": null,
   "metadata": {},
   "outputs": [],
   "source": [
    "# Librairies\n",
    "import numpy as np # Matrix calculations\n",
    "import pandas as pd # Data structures\n",
    "import re # regular expressions\n",
    "import csv\n",
    "import json"
   ]
  },
  {
   "cell_type": "code",
   "execution_count": null,
   "metadata": {},
   "outputs": [],
   "source": [
    "# Path to dataset\n",
    "path = \"data/ucdp/ucdp-dyadic-191.csv\"\n",
    "\n",
    "# We import the data\n",
    "raw_df = pd.read_csv(path, sep=',')\n",
    "\n",
    "# Print nbr of rows\n",
    "print(\"Nbr of rows : \" + str(len(raw_df.index)))\n",
    "\n",
    "# Preview df\n",
    "raw_df.head(10)"
   ]
  },
  {
   "cell_type": "code",
   "execution_count": null,
   "metadata": {},
   "outputs": [],
   "source": [
    "# Only relevant columns\n",
    "clean_df = raw_df[['location', 'year', 'type_of_conflict', 'region']]\n",
    "\n",
    "# Remove rows with NaN\n",
    "clean_df = clean_df.dropna(subset=['location', 'year'])\n",
    "\n",
    "# We only keep Africa\n",
    "def onlyAfrica(x):\n",
    "    if(len(x.split(\",\")) > 1):\n",
    "        return '4' in str(x)\n",
    "    else:\n",
    "        return int(x) == 4\n",
    "        \n",
    "clean_df = clean_df[clean_df['region'].apply(lambda x: onlyAfrica(x))]\n",
    "clean_df = clean_df.drop(columns=['region'])\n",
    "\n",
    "# We remove extrasystemic conflicts\n",
    "clean_df = clean_df[clean_df['type_of_conflict'].apply(lambda x: int(x) != 1)]\n",
    "clean_df = clean_df.drop(columns=['type_of_conflict'])\n",
    "\n",
    "# Print nbr of rows\n",
    "print(\"Nbr of rows : \" + str(len(clean_df.index)))\n",
    "\n",
    "# Preview df\n",
    "clean_df.head(10)"
   ]
  },
  {
   "cell_type": "code",
   "execution_count": null,
   "metadata": {},
   "outputs": [],
   "source": [
    "# Init a dict that will contain the total value of arms import per year per country\n",
    "conflicts_dict = {}\n",
    "\n",
    "minYear = int(min(clean_df['year'].unique()))\n",
    "maxYear = int(max(clean_df['year'].unique()))\n",
    "locationDict = clean_df['location'].unique()\n",
    "\n",
    "for i, key in enumerate(locationDict):\n",
    "    conflicts_dict[key] = {}\n",
    "    \n",
    "    for i in range(minYear, maxYear+1):\n",
    "        conflicts_dict[key][str(i)] = 0"
   ]
  },
  {
   "cell_type": "code",
   "execution_count": null,
   "metadata": {},
   "outputs": [],
   "source": [
    "# Populate the dict with the data\n",
    "for index, row in clean_df.iterrows():\n",
    "    \n",
    "    location = str(row[\"location\"])\n",
    "    year = str(row[\"year\"])\n",
    "    \n",
    "    conflicts_dict[location][year] = 1"
   ]
  },
  {
   "cell_type": "code",
   "execution_count": null,
   "metadata": {},
   "outputs": [],
   "source": [
    "# Save the dict to a json file\n",
    "with open('data/dataviz/conflicts.json', 'w') as fp:\n",
    "    json.dump(conflicts_dict, fp)"
   ]
  },
  {
   "cell_type": "code",
   "execution_count": null,
   "metadata": {},
   "outputs": [],
   "source": []
  }
 ],
 "metadata": {
  "kernelspec": {
   "display_name": "Python 3",
   "language": "python",
   "name": "python3"
  },
  "language_info": {
   "codemirror_mode": {
    "name": "ipython",
    "version": 3
   },
   "file_extension": ".py",
   "mimetype": "text/x-python",
   "name": "python",
   "nbconvert_exporter": "python",
   "pygments_lexer": "ipython3",
   "version": "3.6.8"
  }
 },
 "nbformat": 4,
 "nbformat_minor": 2
}
