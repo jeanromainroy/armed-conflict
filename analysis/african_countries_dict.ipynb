{
 "cells": [
  {
   "cell_type": "code",
   "execution_count": null,
   "metadata": {},
   "outputs": [],
   "source": [
    "import csv\n",
    "import json"
   ]
  },
  {
   "cell_type": "code",
   "execution_count": null,
   "metadata": {},
   "outputs": [],
   "source": [
    "# The file containing the country codes\n",
    "countryCodesFile = \"data/world/COW country codes.csv\""
   ]
  },
  {
   "cell_type": "code",
   "execution_count": null,
   "metadata": {},
   "outputs": [],
   "source": [
    "def buildCountryCodesDict():\n",
    "    \"\"\"\n",
    "        Reads all the country codes from the file and build a dictionary of their key and name\n",
    "    \"\"\"\n",
    "\n",
    "    with open(countryCodesFile, 'r', newline='', encoding=\"utf-8\") as csvfile:\n",
    "\n",
    "        # init reader\n",
    "        reader = csv.reader(csvfile, delimiter=',')\n",
    "\n",
    "        # Taking the header of the file + the index of useful columns:\n",
    "        header = next(reader)\n",
    "        ind_abb = header.index('StateAbb')\n",
    "        ind_cc = header.index('CCode')\n",
    "        ind_name = header.index('StateNme')\n",
    "        \n",
    "        # init dict\n",
    "        dictionary = {}\n",
    "        \n",
    "        # go through file\n",
    "        for row in reader:\n",
    "            \n",
    "            # get data\n",
    "            abb = row[ind_abb]\n",
    "            cc = row[ind_cc]\n",
    "            name = row[ind_name]\n",
    "            \n",
    "            # append to dict\n",
    "            dictionary[cc] = {\n",
    "                \"abb\":abb,\n",
    "                \"name\":name\n",
    "            }\n",
    "            \n",
    "        return dictionary"
   ]
  },
  {
   "cell_type": "code",
   "execution_count": null,
   "metadata": {},
   "outputs": [],
   "source": [
    "ccDict = buildCountryCodesDict()"
   ]
  },
  {
   "cell_type": "code",
   "execution_count": null,
   "metadata": {},
   "outputs": [],
   "source": [
    "african_countries = \"Algeria,Angola,Benin,Botswana,Burkina Faso,Burundi,Cameroon,Cape Verde,Central African Republic,Chad,Comoros,Republic of the Congo,Democratic Republic of the Congo,Djibouti,Egypt,Equatorial Guinea,Eritrea,Ethiopia,Gabon,Gambia,Ghana,Guinea,Guinea-Bissau,Ivory Coast,Kenya,Lesotho,Liberia,Libya,Madagascar,Malawi,Mali,Mauritania,Mauritius,Morocco,Mozambique,Namibia,Niger,Nigeria,Rwanda,Sao Tome and Principe,Senegal,Seychelles,Sierra Leone,Somalia,South Africa,South Sudan,Sudan,Swaziland,Tanzania,Togo,Tunisia,Uganda,Zambia,Zimbabwe\"\n",
    "african_countries = african_countries.split(\",\")"
   ]
  },
  {
   "cell_type": "code",
   "execution_count": null,
   "metadata": {},
   "outputs": [],
   "source": [
    "new_dict = {}\n",
    "\n",
    "for name in african_countries:\n",
    "    found = False\n",
    "    \n",
    "    for i, key in enumerate(ccDict):\n",
    "        if(ccDict[key]['name'] == name):\n",
    "            found = True\n",
    "            new_dict[str(key)] = {\n",
    "                \"name\":ccDict[key]['name'],\n",
    "                \"abb\":ccDict[key]['abb']\n",
    "            }\n",
    "            \n",
    "    if(not found):\n",
    "        print(\"ERROR: \" + name)"
   ]
  },
  {
   "cell_type": "code",
   "execution_count": null,
   "metadata": {},
   "outputs": [],
   "source": [
    "# Save the dict to a json file\n",
    "with open('data/african_countries.json', 'w') as fp:\n",
    "    json.dump(new_dict,fp)"
   ]
  },
  {
   "cell_type": "code",
   "execution_count": null,
   "metadata": {},
   "outputs": [],
   "source": []
  }
 ],
 "metadata": {
  "kernelspec": {
   "display_name": "Python 3",
   "language": "python",
   "name": "python3"
  },
  "language_info": {
   "codemirror_mode": {
    "name": "ipython",
    "version": 3
   },
   "file_extension": ".py",
   "mimetype": "text/x-python",
   "name": "python",
   "nbconvert_exporter": "python",
   "pygments_lexer": "ipython3",
   "version": "3.6.8"
  }
 },
 "nbformat": 4,
 "nbformat_minor": 2
}
